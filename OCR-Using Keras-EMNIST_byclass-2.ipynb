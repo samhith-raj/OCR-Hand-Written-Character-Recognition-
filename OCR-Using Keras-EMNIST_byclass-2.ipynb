{
 "cells": [
  {
   "cell_type": "code",
   "execution_count": 4,
   "metadata": {},
   "outputs": [
    {
     "name": "stdout",
     "output_type": "stream",
     "text": [
      "Reading  emnist-byclass-test-labels-idx1-ubyte\n",
      "Reading  emnist-byclass-test-images-idx3-ubyte\n",
      "Reading  emnist-byclass-train-images-idx3-ubyte\n",
      "Reading  emnist-byclass-train-labels-idx1-ubyte\n"
     ]
    }
   ],
   "source": [
    "import os,codecs\n",
    "import numpy as np\n",
    "\n",
    "path='/Users/samhithraj/Desktop/emnist_byclass_dataset/'\n",
    "files=os.listdir(path)\n",
    "\n",
    "def get_int(b):\n",
    "    return int(codecs.encode(b, 'hex'), 16)\n",
    "\n",
    "data_dict={}\n",
    "for file in files:\n",
    "    print(\"Reading \",file)\n",
    "    with open (path+file,'rb') as f:\n",
    "        data = f.read()\n",
    "        type = get_int(data[:4])   \n",
    "        length = get_int(data[4:8])\n",
    "        if (type == 2051):\n",
    "            category = 'images'\n",
    "            num_rows = get_int(data[8:12])  \n",
    "            num_cols = get_int(data[12:16])\n",
    "            parsed = np.frombuffer(data,dtype = np.uint8, offset = 16)\n",
    "            parsed = parsed.reshape(length,num_rows,num_cols)  \n",
    "        elif(type == 2049):\n",
    "            category = 'labels'\n",
    "            parsed = np.frombuffer(data, dtype=np.uint8, offset=8)\n",
    "            parsed = parsed.reshape(length)                          \n",
    "        if (length==116323):\n",
    "            set = 'test'\n",
    "        elif (length==697932):\n",
    "            set = 'train'\n",
    "        data_dict[set+'_'+category] = parsed"
   ]
  },
  {
   "cell_type": "code",
   "execution_count": 5,
   "metadata": {},
   "outputs": [
    {
     "data": {
      "text/plain": [
       "dict_keys(['test_labels', 'test_images', 'train_images', 'train_labels'])"
      ]
     },
     "execution_count": 5,
     "metadata": {},
     "output_type": "execute_result"
    }
   ],
   "source": [
    "data_dict.keys()"
   ]
  },
  {
   "cell_type": "code",
   "execution_count": 34,
   "metadata": {},
   "outputs": [],
   "source": [
    "x_train=data_dict['train_images']\n",
    "y_train=data_dict['train_labels']\n",
    "x_test=data_dict['test_images']\n",
    "y_test=data_dict['test_labels']"
   ]
  },
  {
   "cell_type": "code",
   "execution_count": 60,
   "metadata": {},
   "outputs": [
    {
     "name": "stdout",
     "output_type": "stream",
     "text": [
      "label:  7\n"
     ]
    },
    {
     "data": {
      "image/png": "[encoded data removed]",
      "text/plain": [
       "<Figure size 432x288 with 1 Axes>"
      ]
     },
     "metadata": {
      "needs_background": "light"
     },
     "output_type": "display_data"
    },
    {
     "name": "stdout",
     "output_type": "stream",
     "text": [
      "7\n"
     ]
    }
   ],
   "source": [
    "labels = \"0123456789ABCDEFGHIJKLMNOPQRSTUVWXYZabcdefghijklmnopqrstuvwxyz\"\n",
    "import matplotlib.pyplot as plt\n",
    "plt.gray() \n",
    "img_index=44444\n",
    "imgplot = plt.imshow(x_test[img_index].reshape(28, 28).T, cmap='gray')\n",
    "print(\"label: \",y_test[img_index])\n",
    "plt.show()\n",
    "print(labels[y_test[img_index]])"
   ]
  },
  {
   "cell_type": "code",
   "execution_count": 43,
   "metadata": {},
   "outputs": [
    {
     "name": "stdout",
     "output_type": "stream",
     "text": [
      "(697932, 28, 28) (116323, 28, 28)\n"
     ]
    }
   ],
   "source": [
    "print(x_train.shape,x_test.shape)"
   ]
  },
  {
   "cell_type": "code",
   "execution_count": 44,
   "metadata": {},
   "outputs": [],
   "source": [
    "x_train = x_train.reshape(x_train.shape[0], 28, 28, 1)\n",
    "x_test = x_test.reshape(x_test.shape[0], 28, 28, 1)\n",
    "input_shape = (28, 28, 1)"
   ]
  },
  {
   "cell_type": "code",
   "execution_count": 45,
   "metadata": {},
   "outputs": [],
   "source": [
    "x_train = x_train.astype('float32')\n",
    "x_test = x_test.astype('float32')"
   ]
  },
  {
   "cell_type": "code",
   "execution_count": 46,
   "metadata": {},
   "outputs": [
    {
     "name": "stdout",
     "output_type": "stream",
     "text": [
      "x_train shape: (697932, 28, 28, 1)\n"
     ]
    }
   ],
   "source": [
    "x_train /= 255\n",
    "x_test /= 255\n",
    "print('x_train shape:', x_train.shape)"
   ]
  },
  {
   "cell_type": "code",
   "execution_count": 47,
   "metadata": {},
   "outputs": [],
   "source": [
    "import tensorflow as tf"
   ]
  },
  {
   "cell_type": "code",
   "execution_count": 48,
   "metadata": {},
   "outputs": [],
   "source": [
    "from keras.models import Sequential\n",
    "from keras.layers import Dense, Conv2D, Dropout, Flatten, MaxPooling2D"
   ]
  },
  {
   "cell_type": "code",
   "execution_count": 50,
   "metadata": {},
   "outputs": [],
   "source": [
    "model = Sequential()\n",
    "model.add(Conv2D(28, kernel_size=(3,3), input_shape=input_shape))\n",
    "model.add(MaxPooling2D(pool_size=(2, 2)))\n",
    "model.add(Flatten())\n",
    "model.add(Dense(128, activation=tf.nn.relu))\n",
    "model.add(Dropout(0.2))\n",
    "model.add(Dense(62,activation=tf.nn.softmax))"
   ]
  },
  {
   "cell_type": "code",
   "execution_count": 64,
   "metadata": {},
   "outputs": [
    {
     "name": "stdout",
     "output_type": "stream",
     "text": [
      "Epoch 1/3\n",
      "697932/697932 [==============================] - 481s 689us/step - loss: 0.5408 - acc: 0.8197\n",
      "Epoch 2/3\n",
      "697932/697932 [==============================] - 431s 618us/step - loss: 0.4964 - acc: 0.8306\n",
      "Epoch 3/3\n",
      "697932/697932 [==============================] - 367s 526us/step - loss: 0.4710 - acc: 0.8376\n"
     ]
    },
    {
     "data": {
      "text/plain": [
       "<keras.callbacks.History at 0x13cd17cf8>"
      ]
     },
     "execution_count": 64,
     "metadata": {},
     "output_type": "execute_result"
    }
   ],
   "source": [
    "model.compile(optimizer='adam', \n",
    "              loss='sparse_categorical_crossentropy', \n",
    "              metrics=['accuracy'])\n",
    "model.fit(x=x_train,y=y_train, epochs=3, batch_size=1000)"
   ]
  },
  {
   "cell_type": "code",
   "execution_count": 65,
   "metadata": {},
   "outputs": [
    {
     "name": "stdout",
     "output_type": "stream",
     "text": [
      "116323/116323 [==============================] - 29s 249us/step\n"
     ]
    },
    {
     "data": {
      "text/plain": [
       "[0.42430577772132805, 0.8506314314457124]"
      ]
     },
     "execution_count": 65,
     "metadata": {},
     "output_type": "execute_result"
    }
   ],
   "source": [
    "model.evaluate(x_test, y_test)"
   ]
  },
  {
   "cell_type": "code",
   "execution_count": 164,
   "metadata": {},
   "outputs": [
    {
     "name": "stdout",
     "output_type": "stream",
     "text": [
      "40\n",
      "e\n"
     ]
    },
    {
     "data": {
      "image/png": "[encoded data removed]",
      "text/plain": [
       "<Figure size 432x288 with 1 Axes>"
      ]
     },
     "metadata": {
      "needs_background": "light"
     },
     "output_type": "display_data"
    }
   ],
   "source": [
    "image_index = 12564\n",
    "plt.imshow(x_test[image_index].reshape(28, 28).T,cmap='gray')\n",
    "pred = model.predict(x_test[image_index].reshape(1,28,28, 1))\n",
    "print(pred.argmax())\n",
    "print(labels[int(pred.argmax())])"
   ]
  },
  {
   "cell_type": "code",
   "execution_count": 96,
   "metadata": {},
   "outputs": [],
   "source": [
    "p=model.predict(x_test)"
   ]
  },
  {
   "cell_type": "code",
   "execution_count": 97,
   "metadata": {
    "scrolled": true
   },
   "outputs": [
    {
     "name": "stdout",
     "output_type": "stream",
     "text": [
      "[[9.8641010e-07 6.6753852e-01 7.0647011e-06 ... 2.4989793e-06\n",
      "  9.4094205e-05 6.1642751e-08]\n",
      " [5.8309357e-05 7.0574369e-09 2.2079982e-03 ... 2.9013303e-10\n",
      "  6.9950634e-10 7.7580786e-08]\n",
      " [5.4779315e-01 1.4887924e-07 4.3758235e-04 ... 8.0945239e-10\n",
      "  5.2234626e-08 4.6191150e-08]\n",
      " ...\n",
      " [2.0773486e-10 3.9282444e-10 1.4627848e-05 ... 2.0641933e-09\n",
      "  7.1189374e-11 2.7086091e-06]\n",
      " [3.7408805e-01 1.7935445e-08 4.6783280e-06 ... 5.0821942e-09\n",
      "  1.8790136e-07 4.2805773e-08]\n",
      " [5.9457057e-11 2.1071893e-09 3.5869711e-14 ... 1.1661662e-10\n",
      "  1.1713989e-09 1.2812062e-13]]\n"
     ]
    }
   ],
   "source": [
    "print(p)"
   ]
  },
  {
   "cell_type": "code",
   "execution_count": 100,
   "metadata": {},
   "outputs": [
    {
     "name": "stdout",
     "output_type": "stream",
     "text": [
      "98948\n",
      "85.06314314452\n"
     ]
    }
   ],
   "source": [
    "c=0\n",
    "for i in range(x_test.shape[0]):\n",
    "    c+=1 if np.argmax(p[i])==y_test[i] else 0\n",
    "print(c)    \n",
    "print((c/x_test.shape[0])*100) "
   ]
  },
  {
   "cell_type": "code",
   "execution_count": 5,
   "metadata": {},
   "outputs": [
    {
     "name": "stderr",
     "output_type": "stream",
     "text": [
      "Using TensorFlow backend.\n"
     ]
    }
   ],
   "source": [
    "from keras.models import model_from_json\n",
    "from keras.models import load_model"
   ]
  },
  {
   "cell_type": "code",
   "execution_count": 6,
   "metadata": {},
   "outputs": [],
   "source": [
    "datapath= '/Users/samhithraj/Desktop/emnist_byclass_dataset/'"
   ]
  },
  {
   "cell_type": "code",
   "execution_count": 7,
   "metadata": {},
   "outputs": [
    {
     "name": "stdout",
     "output_type": "stream",
     "text": [
      "WARNING:tensorflow:From /Library/Frameworks/Python.framework/Versions/3.7/lib/python3.7/site-packages/tensorflow/python/framework/op_def_library.py:263: colocate_with (from tensorflow.python.framework.ops) is deprecated and will be removed in a future version.\n",
      "Instructions for updating:\n",
      "Colocations handled automatically by placer.\n",
      "WARNING:tensorflow:From /Library/Frameworks/Python.framework/Versions/3.7/lib/python3.7/site-packages/keras/backend/tensorflow_backend.py:3445: calling dropout (from tensorflow.python.ops.nn_ops) with keep_prob is deprecated and will be removed in a future version.\n",
      "Instructions for updating:\n",
      "Please use `rate` instead of `keep_prob`. Rate should be set to `rate = 1 - keep_prob`.\n",
      "Loaded model from disk\n"
     ]
    },
    {
     "name": "stderr",
     "output_type": "stream",
     "text": [
      "/Library/Frameworks/Python.framework/Versions/3.7/lib/python3.7/site-packages/keras/engine/saving.py:292: UserWarning: No training configuration found in save file: the model was *not* compiled. Compile it manually.\n",
      "  warnings.warn('No training configuration found in save file: '\n"
     ]
    }
   ],
   "source": [
    "json_file = open(datapath+'model_num.json', 'r')\n",
    "\n",
    "loaded_model_json = json_file.read()\n",
    "json_file.close()\n",
    "loaded_model = model_from_json(loaded_model_json)\n",
    "\n",
    "loaded_model.load_weights(datapath+\"model_num.h5\")\n",
    "print(\"Loaded model from disk\")\n",
    "\n",
    "loaded_model.save('model_num.hdf5')\n",
    "loaded_model=load_model('model_num.hdf5')"
   ]
  },
  {
   "cell_type": "code",
   "execution_count": null,
   "metadata": {},
   "outputs": [],
   "source": []
  }
 ],
 "metadata": {
  "kernelspec": {
   "display_name": "Python 3",
   "language": "python",
   "name": "python3"
  },
  "language_info": {
   "codemirror_mode": {
    "name": "ipython",
    "version": 3
   },
   "file_extension": ".py",
   "mimetype": "text/x-python",
   "name": "python",
   "nbconvert_exporter": "python",
   "pygments_lexer": "ipython3",
   "version": "3.7.2"
  }
 },
 "nbformat": 4,
 "nbformat_minor": 2
}
